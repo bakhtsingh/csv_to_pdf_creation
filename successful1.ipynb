{
 "cells": [
  {
   "cell_type": "code",
   "execution_count": null,
   "id": "56aedcd2",
   "metadata": {},
   "outputs": [],
   "source": [
    "! pip install PyPDF2\n",
    "import numpy as np\n",
    "import pandas as pd\n",
    "import fpdf\n",
    "import os\n",
    "from fpdf import FPDF\n",
    "import csv\n",
    "from PyPDF2 import PdfFileMerger\n",
    "import time"
   ]
  },
  {
   "cell_type": "code",
   "execution_count": null,
   "id": "31bc817f",
   "metadata": {},
   "outputs": [],
   "source": [
    "def createList(r1, r2):\n",
    "    return list(range(r1, r2+1))"
   ]
  },
  {
   "cell_type": "code",
   "execution_count": null,
   "id": "16f210ff",
   "metadata": {},
   "outputs": [],
   "source": [
    "def pdf_file_merger(path,ISO):\n",
    "    #Create and instance of PdfFileMerger() class\n",
    "    merger = PdfFileMerger()\n",
    "    #Create a list with PDF file names\n",
    "    path_to_files = r''+path+'/'\n",
    "    #Get the file names in the directory\n",
    "    for root, dirs, file_names in os.walk(path_to_files):\n",
    "        #Iterate over the list of file names\n",
    "        for file_name in file_names:\n",
    "            #Append PDF files\n",
    "            merger.append(path_to_files + file_name)\n",
    "    #Write out the merged PDF\n",
    "    merger.write(path+'/'+ISO+\".pdf\")\n",
    "    merger.close()"
   ]
  },
  {
   "cell_type": "code",
   "execution_count": null,
   "id": "9fe0982a",
   "metadata": {},
   "outputs": [],
   "source": [
    "class PDF(FPDF):\n",
    "    def setHeading(self, heading):\n",
    "        self.heading = heading\n",
    "    def header(self):\n",
    "        self.l_margin = 14\n",
    "        self.r_margin = 14\n",
    "        \n",
    "        self.set_font('Arial', '', hdg_font_sz)\n",
    "        #self.set_text_color(43,60,102)\n",
    "        self.set_text_color(0,0,0)\n",
    "        self.cell(0, 10, f'{self.heading}', 0, 0, 'C')\n",
    "\n",
    "        #self.set_font('Arial', '', rpt_font_sz)\n",
    "        #self.cell(-30, 11, f'{date_fmt}', 0, 0, 'C')\n",
    "        self.ln(15)\n",
    "\n",
    "        self.set_fill_color(240,248,255)\n",
    "\n",
    "        col = 0\n",
    "        while col < len(rpt_hdgs):\n",
    "            col_width = cwidths[col]\n",
    "            self.cell(col_width, line_height, rpt_hdgs[col], 0, 0, fill=True)    \n",
    "            col += 1   \n",
    "        self.ln(15)\n",
    "    \n",
    "    def footer(self):\n",
    "        # Go to 1.5 cm from bottom\n",
    "        self.set_y(-15)\n",
    "        # Select Arial italic 8\n",
    "        self.set_font('Arial', 'I', 10)\n",
    "        # Print centered page number\n",
    "        self.cell(0, 10, 'Page %s' % self.page_no(), 0, 0, 'C')"
   ]
  },
  {
   "cell_type": "code",
   "execution_count": null,
   "id": "fce71cdf",
   "metadata": {},
   "outputs": [],
   "source": [
    "def convert_to_pdf(data_list,pdf_name,heading,path):\n",
    "    #fpdf.set_global(\"SYSTEM_TTFONTS\", os.path.join(os.path.dirname('/Users/msdhoni/Automation/Repos/test-automation'),'fonts'))\n",
    "    pdf = PDF()\n",
    "    pdf.setHeading(heading)\n",
    "    pdf.alias_nb_pages()\n",
    "    #pdf.set_auto_page_break(auto: bool, margin = 1.0)\n",
    "    pdf.add_page()\n",
    "    #pdf.set_font('Arial', '', rpt_font_sz, uni=True)\n",
    "    pdf.add_font(\"NotoSans\", style=\"\", fname=\"NotoSans-Regular.ttf\", uni=True)\n",
    "    pdf.set_font('NotoSans', '', rpt_font_sz)\n",
    "    #pdf.add_font(\"NotoSans\", style=\"B\", fname=\"NotoSans-Bold.ttf\", uni=True)\n",
    "    #pdf.add_font(\"NotoSans\", style=\"I\", fname=\"NotoSans-Italic.ttf\", uni=True)\n",
    "    #pdf.add_font(\"NotoSans\", style=\"BI\", fname=\"NotoSans-BoldItalic.ttf\", uni=True)\n",
    "    row_count = 0\n",
    "    while row_count < len(data_list):\n",
    "        col = 0\n",
    "        for c in cwidths:\n",
    "            pdf.cell(c, 0, data_list[row_count][col], align='L', border=0)\n",
    "            col += 1\n",
    "        pdf.ln(7)\n",
    "        row_count += 1\n",
    "    pdf.output(path+'/'+pdf_name, 'F')"
   ]
  },
  {
   "cell_type": "code",
   "execution_count": null,
   "id": "c4965960",
   "metadata": {},
   "outputs": [],
   "source": [
    "def get_side_heading(adm1_unique_values,index,file_name1):\n",
    "    adm1_list = adm1_unique_values\n",
    "    count = index\n",
    "    side_heading =  adm1_list[count]+\", \"+file_name1\n",
    "    return side_heading"
   ]
  },
  {
   "cell_type": "code",
   "execution_count": null,
   "id": "fbfa2579",
   "metadata": {},
   "outputs": [],
   "source": [
    "def convert_to_pdf1(data_list,pdf_name,heading,path,adm1_unique_values,file_name1):\n",
    "    pdf = PDF()\n",
    "    pdf.setHeading(heading)\n",
    "    pdf.alias_nb_pages()\n",
    "    pdf.set_auto_page_break(auto = True, margin = 14)\n",
    "    pdf.add_page()\n",
    "    pdf.add_font(\"NotoSans\", style=\"\", fname=\"NotoSans-Regular.ttf\", uni=True)\n",
    "    pdf.set_font('NotoSans', '', rpt_font_sz)\n",
    "    row_count = 0\n",
    "    count = 0\n",
    "    adm1_list = adm1_unique_values\n",
    "    while row_count < len(data_list):\n",
    "        col = 0\n",
    "        if ((int(data_list[row_count][col])) == 1):\n",
    "            side_heading = get_side_heading(adm1_unique_values,count,file_name1)\n",
    "            pdf.ln(4)\n",
    "            pdf.cell(0, 0, f'{side_heading}', align='L', border=0)\n",
    "            pdf.ln(7)\n",
    "            count += 1\n",
    "        for c in cwidths:\n",
    "            pdf.cell(c, 0, data_list[row_count][col], align='L', border=0)\n",
    "            col += 1\n",
    "        pdf.ln(7)\n",
    "        row_count += 1\n",
    "    pdf.output(path+'/'+pdf_name, 'F')\n",
    "    #pdf.output(\"AND\", 'F')"
   ]
  },
  {
   "cell_type": "code",
   "execution_count": null,
   "id": "b8166862",
   "metadata": {},
   "outputs": [],
   "source": [
    "data = pd.read_csv('AND.csv')"
   ]
  },
  {
   "cell_type": "code",
   "execution_count": null,
   "id": "bc6a3961",
   "metadata": {},
   "outputs": [],
   "source": [
    "data"
   ]
  },
  {
   "cell_type": "code",
   "execution_count": null,
   "id": "37c55b74",
   "metadata": {},
   "outputs": [],
   "source": [
    "data.loc[:, \"total_p\"] = data[\"total_p\"].map('{:,d}'.format)"
   ]
  },
  {
   "cell_type": "code",
   "execution_count": null,
   "id": "17ef03c2",
   "metadata": {},
   "outputs": [],
   "source": [
    "file_name1 = data['adm0_nm'][0]\n",
    "adm1_values = data['adm1_nm'].values\n",
    "adm1_unique_values = list(np.unique(adm1_values))\n",
    "directory = \"pandu\"\n",
    "temp = directory\n",
    "parent_dir = \"/Users/msdhoni/Automation/Repos/pdfs\"\n",
    "path = os.path.join(parent_dir, directory)\n",
    "os.mkdir(path)\n",
    "data_list_final = []\n",
    "for item in adm1_unique_values:\n",
    "    needed_data = data.query('adm1_nm == \"'+item+'\"')\n",
    "    needed_data = needed_data[['adm4_nm','total_p']]\n",
    "    count_row = needed_data.shape[0]\n",
    "    index_list = createList(1, count_row)\n",
    "    index = pd.Index(index_list)\n",
    "    needed_data = needed_data.set_index(index)\n",
    "    needed_data.to_csv('example.csv')\n",
    "    with open(f'example.csv', 'r') as csvfile:\n",
    "        data_list= list(csv.reader(csvfile))[1:]\n",
    "    data_list_final.append(data_list)\n",
    "    #list(data_list_final,\"utf-8\")\n",
    "    #data_list_final.decode(\"utf-8\")\n",
    "    os.remove('example.csv')\n",
    "final_list = []\n",
    "for temp in data_list_final:\n",
    "    for elem in temp:\n",
    "        final_list.append(elem)\n",
    "#print(data_list[:3])\n",
    "#pdf_name = f'example_and.pdf'\n",
    "file_name2 = item\n",
    "#file_name2 = file_name2.replace(\" \",\"\")\n",
    "pdf_name = file_name1 +'_'+ file_name2 + '.pdf'\n",
    "heading = file_name1\n",
    "rpt_hdgs = [' ', 'Village, City or Settlement', 'total population'] \n",
    "cwidths  = [10, 90, 55]\n",
    "rpt_font_sz = 12\n",
    "hdg_font_sz = 15\n",
    "line_height = 8\n",
    "#convert_to_pdf1(data_list_final,pdf_name,heading,path)\n",
    "convert_to_pdf1(final_list,pdf_name,heading,path,adm1_unique_values,file_name1)\n",
    "#os.remove('example.csv')\n",
    "#pdf_file_merger(path,\"AND\")\"\"\""
   ]
  },
  {
   "cell_type": "code",
   "execution_count": null,
   "id": "9f7fced9",
   "metadata": {},
   "outputs": [],
   "source": [
    "print(len(data_list_final[1]))\n",
    "row_count1 = 0\n",
    "while row_count1 < len(data_list_final):\n",
    "    row_count2 = 0\n",
    "    while row_count2 < len(data_list_final[row_count1]):\n",
    "        col = 0\n",
    "        for c in cwidths:\n",
    "            #pdf.cell(c, 0, data_list_final[row_count][col], align='L', border=0)\n",
    "            print(data_list_final[row_count1][col])\n",
    "            col += 1\n",
    "            #pdf.ln(7)\n",
    "        row_count2 += 1\n",
    "    row_count1 += 1"
   ]
  },
  {
   "cell_type": "code",
   "execution_count": null,
   "id": "97139421",
   "metadata": {},
   "outputs": [],
   "source": []
  }
 ],
 "metadata": {
  "kernelspec": {
   "display_name": "Python 3 (ipykernel)",
   "language": "python",
   "name": "python3"
  },
  "language_info": {
   "codemirror_mode": {
    "name": "ipython",
    "version": 3
   },
   "file_extension": ".py",
   "mimetype": "text/x-python",
   "name": "python",
   "nbconvert_exporter": "python",
   "pygments_lexer": "ipython3",
   "version": "3.10.4"
  }
 },
 "nbformat": 4,
 "nbformat_minor": 5
}
